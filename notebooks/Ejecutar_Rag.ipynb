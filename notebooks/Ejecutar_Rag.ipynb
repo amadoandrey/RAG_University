{
 "cells": [
  {
   "cell_type": "code",
   "execution_count": null,
   "id": "ce413d08",
   "metadata": {},
   "outputs": [],
   "source": [
    "# ============================================\n",
    "# 🚀 Setup inicial para Google Colab\n",
    "# ============================================\n",
    "\n",
    "# 1. Montar Google Drive (opcional, si guardas PDFs en Drive)\n",
    "from google.colab import drive\n",
    "drive.mount('/content/drive', force_remount=True)\n",
    "\n",
    "# 2. Instalar dependencias principales\n",
    "!pip install -q -U streamlit cloudflared                  langchain langchain-community langchain-huggingface                  transformers torch sentence-transformers chromadb                  nltk rouge-score pandas\n",
    "\n",
    "# 3. Descargar e instalar Cloudflare Tunnel (para exponer Streamlit)\n",
    "!wget -q https://github.com/cloudflare/cloudflared/releases/latest/download/cloudflared-linux-amd64.deb\n",
    "!dpkg -i cloudflared-linux-amd64.deb\n",
    "\n",
    "# 4. Configurar Hugging Face token desde variable de entorno\n",
    "import os\n",
    "os.environ[\"HUGGINGFACEHUB_API_TOKEN\"] = \"hf_TU_TOKEN_AQUI\"\n",
    "\n",
    "print(\"✅ Entorno configurado. Ahora puedes ejecutar app_loader.py o app_chat.py con Streamlit.\")\n"
   ]
  },
  {
   "cell_type": "code",
   "execution_count": null,
   "id": "19ef5ec3",
   "metadata": {},
   "outputs": [],
   "source": [
    "# ============================================\n",
    "# 📂 Ejecutar app_loader.py (carga de documentos)\n",
    "# ============================================\n",
    "\n",
    "get_ipython().system_raw('streamlit run src/app_loader.py --server.port 8501 --server.address 0.0.0.0 &')\n",
    "!cloudflared tunnel --url http://localhost:8501 --no-autoupdate\n"
   ]
  },
  {
   "cell_type": "code",
   "execution_count": null,
   "id": "66d14fa9",
   "metadata": {},
   "outputs": [],
   "source": [
    "# ============================================\n",
    "# 💬 Ejecutar app_chat.py (chatbot con métricas)\n",
    "# ============================================\n",
    "\n",
    "get_ipython().system_raw('streamlit run src/app_chat.py --server.port 8501 --server.address 0.0.0.0 &')\n",
    "!cloudflared tunnel --url http://localhost:8501 --no-autoupdate\n"
   ]
  }
 ],
 "metadata": {},
 "nbformat": 4,
 "nbformat_minor": 5
}
